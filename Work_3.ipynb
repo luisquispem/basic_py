{
 "cells": [
  {
   "cell_type": "markdown",
   "id": "be44ef26",
   "metadata": {},
   "source": [
    "## Work 3"
   ]
  },
  {
   "cell_type": "code",
   "execution_count": 2,
   "id": "35e584c4",
   "metadata": {},
   "outputs": [],
   "source": [
    "#import packages\n",
    "import pandas as pd\n",
    "import json\n",
    "from urllib.request import urlopen\n",
    "from urllib.request import urlretrieve\n",
    "from urllib.request import urlopen, Request\n",
    "import requests"
   ]
  },
  {
   "cell_type": "markdown",
   "id": "04574862",
   "metadata": {},
   "source": [
    "#### A. \n",
    "Manage the dataset"
   ]
  },
  {
   "cell_type": "code",
   "execution_count": 22,
   "id": "32724e98",
   "metadata": {},
   "outputs": [
    {
     "name": "stderr",
     "output_type": "stream",
     "text": [
      "C:\\Users\\Luis\\anaconda3\\lib\\site-packages\\IPython\\core\\interactiveshell.py:3444: DtypeWarning: Columns (0) have mixed types.Specify dtype option on import or set low_memory=False.\n",
      "  exec(code_obj, self.user_global_ns, self.user_ns)\n"
     ]
    }
   ],
   "source": [
    "#read dataset\n",
    "mef=pd.read_csv(r'../basic_py/2021-Ingreso.csv')"
   ]
  },
  {
   "cell_type": "code",
   "execution_count": 23,
   "id": "fbc6ec0f",
   "metadata": {},
   "outputs": [
    {
     "name": "stdout",
     "output_type": "stream",
     "text": [
      "28968156\n",
      "(804671, 36)\n"
     ]
    }
   ],
   "source": [
    "#Tamaño del dataset (cantidad de instancias y atributos).'''\n",
    "print(mef.size)    \n",
    "print(mef.shape)"
   ]
  },
  {
   "cell_type": "markdown",
   "id": "ea4d2f96",
   "metadata": {},
   "source": [
    "#### B. \n",
    "How many variables are there?"
   ]
  },
  {
   "cell_type": "code",
   "execution_count": 24,
   "id": "f3226ba3",
   "metadata": {},
   "outputs": [
    {
     "name": "stdout",
     "output_type": "stream",
     "text": [
      "Index(['ANO_DOC', 'MES_DOC', 'TIPO_GOBIERNO', 'TIPO_GOBIERNO_NOMBRE', 'SECTOR',\n",
      "       'SECTOR_NOMBRE', 'PLIEGO', 'PLIEGO_NOMBRE', 'SEC_EJEC', 'EJECUTORA',\n",
      "       'EJECUTORA_NOMBRE', 'DEPARTAMENTO_EJECUTORA',\n",
      "       'DEPARTAMENTO_EJECUTORA_NOMBRE', 'PROVINCIA_EJECUTORA',\n",
      "       'PROVINCIA_EJECUTORA_NOMBRE', 'DISTRITO_EJECUTORA',\n",
      "       'DISTRITO_EJECUTORA_NOMBRE', 'FUENTE_FINANC', 'FUENTE_FINANC_NOMBRE',\n",
      "       'RUBRO', 'RUBRO_NOMBRE', 'TIPO_RECURSO', 'TIPO_RECURSO_NOMBRE',\n",
      "       'GENERICA', 'GENERICA_NOMBRE', 'SUBGENERICA', 'SUBGENERICA_NOMBRE',\n",
      "       'SUBGENERICA_DET', 'SUBGENERICA_DET_NOMBRE', 'ESPECIFICA',\n",
      "       'ESPECIFICA_NOMBRE', 'ESPECIFICA_DET', 'ESPECIFICA_DET_NOMBRE',\n",
      "       'MONTO_PIA', 'MONTO_PIM', 'MONTO_RECAUDADO'],\n",
      "      dtype='object')\n",
      "Hay 36 variables\n"
     ]
    }
   ],
   "source": [
    "print(mef.columns)    #nombre de las variables\n",
    "print('Hay ' +str(len(mef.columns)) + ' variables') "
   ]
  },
  {
   "cell_type": "markdown",
   "id": "4d804acd",
   "metadata": {},
   "source": [
    "#### D.\n",
    "Generate a table selecting \"MONTO_...\" for each type of government and save it as a df"
   ]
  },
  {
   "cell_type": "code",
   "execution_count": 25,
   "id": "2d814993",
   "metadata": {},
   "outputs": [
    {
     "name": "stdout",
     "output_type": "stream",
     "text": [
      "                         MONTO_PIA     MONTO_PIM  MONTO_RECAUDADO\n",
      "TIPO_GOBIERNO_NOMBRE                                             \n",
      "GOBIERNO NACIONAL     1.106878e+06  1.304592e+06     1.580821e+06\n",
      "GOBIERNOS LOCALES     2.932922e+04  6.220367e+04     5.989785e+04\n",
      "GOBIERNOS REGIONALES  8.897493e+04  1.725983e+05     1.709555e+05\n"
     ]
    },
    {
     "name": "stderr",
     "output_type": "stream",
     "text": [
      "C:\\Users\\Luis\\AppData\\Local\\Temp/ipykernel_2912/2111421366.py:1: FutureWarning: Indexing with multiple keys (implicitly converted to a tuple of keys) will be deprecated, use a list instead.\n",
      "  datosabiertos= mef.groupby(\"TIPO_GOBIERNO_NOMBRE\")[\"TIPO_GOBIERNO_NOMBRE\", 'MONTO_PIA', 'MONTO_PIM', 'MONTO_RECAUDADO'].mean() #agrupamos por TIPO_GOB el promedio de las 3 variables pedidas\n"
     ]
    }
   ],
   "source": [
    "datosabiertos= mef.groupby(\"TIPO_GOBIERNO_NOMBRE\")[\"TIPO_GOBIERNO_NOMBRE\", 'MONTO_PIA', 'MONTO_PIM', 'MONTO_RECAUDADO'].mean() #agrupamos por TIPO_GOB el promedio de las 3 variables pedidas\n",
    "print(datosabiertos)    "
   ]
  },
  {
   "cell_type": "markdown",
   "id": "67f4cac5",
   "metadata": {},
   "source": [
    "#### 1.\n",
    "Ingrese una solicitud para abrir la siguiente página de DATA-PERU: \n",
    "http://dataperu.itp.gob.pe/api/tesseract/dataNacion=per&cube=mef_ingresos&drilldowns=Nivel+Gobierno,Year&measures=PIA,PIM,Monto+Recaudado&parents=false&sparse=false.\n",
    "Guarde la solicitud como ‘r’. Conviértalo en un archivo ‘json’ y luego en un dataframe. Guarde el dataframe como ‘df’"
   ]
  },
  {
   "cell_type": "code",
   "execution_count": 8,
   "id": "1bc943fe",
   "metadata": {},
   "outputs": [],
   "source": [
    "#primero guardamos la url\n",
    "json_url=\"http://data-peru.itp.gob.pe/api/tesseract/data?Nacion=per&cube=mef_ingresos&drilldowns=Nivel+Gobierno,Year&measures=PIA,PIM,Monto+Recaudado&parents=false&sparse=false\"\n",
    "\n",
    "r= requests.get(json_url)   #guardamos solicitud"
   ]
  },
  {
   "cell_type": "code",
   "execution_count": 12,
   "id": "c70b8fb1",
   "metadata": {},
   "outputs": [
    {
     "data": {
      "text/plain": [
       "{'data': [{'Nivel Gobierno ID': 'E',\n",
       "   'Nivel Gobierno': 'GOBIERNO NACIONAL',\n",
       "   'Year': 2014,\n",
       "   'PIA': 16489930135.0,\n",
       "   'PIM': 21974463781.0,\n",
       "   'Monto Recaudado': 34110297569.24},\n",
       "  {'Nivel Gobierno ID': 'E',\n",
       "   'Nivel Gobierno': 'GOBIERNO NACIONAL',\n",
       "   'Year': 2015,\n",
       "   'PIA': 20450493516.0,\n",
       "   'PIM': 31070362390.0,\n",
       "   'Monto Recaudado': 50866602867.8},\n",
       "  {'Nivel Gobierno ID': 'E',\n",
       "   'Nivel Gobierno': 'GOBIERNO NACIONAL',\n",
       "   'Year': 2016,\n",
       "   'PIA': 36069865223.0,\n",
       "   'PIM': 36420675757.0,\n",
       "   'Monto Recaudado': 54821485785.06999},\n",
       "  {'Nivel Gobierno ID': 'E',\n",
       "   'Nivel Gobierno': 'GOBIERNO NACIONAL',\n",
       "   'Year': 2017,\n",
       "   'PIA': 32377366526.0,\n",
       "   'PIM': 36349495597.0,\n",
       "   'Monto Recaudado': 54034151938.00002},\n",
       "  {'Nivel Gobierno ID': 'E',\n",
       "   'Nivel Gobierno': 'GOBIERNO NACIONAL',\n",
       "   'Year': 2018,\n",
       "   'PIA': 35606573317.0,\n",
       "   'PIM': 36689496562.0,\n",
       "   'Monto Recaudado': 50559774537.770004},\n",
       "  {'Nivel Gobierno ID': 'E',\n",
       "   'Nivel Gobierno': 'GOBIERNO NACIONAL',\n",
       "   'Year': 2019,\n",
       "   'PIA': 40540083518.0,\n",
       "   'PIM': 41360147546.0,\n",
       "   'Monto Recaudado': 53346068892.34},\n",
       "  {'Nivel Gobierno ID': 'E',\n",
       "   'Nivel Gobierno': 'GOBIERNO NACIONAL',\n",
       "   'Year': 2020,\n",
       "   'PIA': 37666045879.0,\n",
       "   'PIM': 51163063545.0,\n",
       "   'Monto Recaudado': 61073498751.40002},\n",
       "  {'Nivel Gobierno ID': 'E',\n",
       "   'Nivel Gobierno': 'GOBIERNO NACIONAL',\n",
       "   'Year': 2021,\n",
       "   'PIA': 56304667866.0,\n",
       "   'PIM': 66402028708.0,\n",
       "   'Monto Recaudado': 51698830450.06002},\n",
       "  {'Nivel Gobierno ID': 'M',\n",
       "   'Nivel Gobierno': 'GOBIERNOS LOCALES',\n",
       "   'Year': 2014,\n",
       "   'PIA': 16352951558.0,\n",
       "   'PIM': 27088593492.0,\n",
       "   'Monto Recaudado': 25872639528.010006},\n",
       "  {'Nivel Gobierno ID': 'M',\n",
       "   'Nivel Gobierno': 'GOBIERNOS LOCALES',\n",
       "   'Year': 2015,\n",
       "   'PIA': 15230682622.0,\n",
       "   'PIM': 24004510109.0,\n",
       "   'Monto Recaudado': 23399762001.9},\n",
       "  {'Nivel Gobierno ID': 'M',\n",
       "   'Nivel Gobierno': 'GOBIERNOS LOCALES',\n",
       "   'Year': 2016,\n",
       "   'PIA': 14269909830.0,\n",
       "   'PIM': 26468273662.0,\n",
       "   'Monto Recaudado': 25979054166.489998},\n",
       "  {'Nivel Gobierno ID': 'M',\n",
       "   'Nivel Gobierno': 'GOBIERNOS LOCALES',\n",
       "   'Year': 2017,\n",
       "   'PIA': 14553447220.0,\n",
       "   'PIM': 29127554508.0,\n",
       "   'Monto Recaudado': 28884965750.37},\n",
       "  {'Nivel Gobierno ID': 'M',\n",
       "   'Nivel Gobierno': 'GOBIERNOS LOCALES',\n",
       "   'Year': 2018,\n",
       "   'PIA': 15386258259.0,\n",
       "   'PIM': 33802146389.0,\n",
       "   'Monto Recaudado': 32427381935.090004},\n",
       "  {'Nivel Gobierno ID': 'M',\n",
       "   'Nivel Gobierno': 'GOBIERNOS LOCALES',\n",
       "   'Year': 2019,\n",
       "   'PIA': 17176954509.0,\n",
       "   'PIM': 30619083986.0,\n",
       "   'Monto Recaudado': 29217497159.310005},\n",
       "  {'Nivel Gobierno ID': 'M',\n",
       "   'Nivel Gobierno': 'GOBIERNOS LOCALES',\n",
       "   'Year': 2020,\n",
       "   'PIA': 17975452116.0,\n",
       "   'PIM': 34944267974.0,\n",
       "   'Monto Recaudado': 33472955603.24999},\n",
       "  {'Nivel Gobierno ID': 'M',\n",
       "   'Nivel Gobierno': 'GOBIERNOS LOCALES',\n",
       "   'Year': 2021,\n",
       "   'PIA': 19612831122.0,\n",
       "   'PIM': 36433387567.0,\n",
       "   'Monto Recaudado': 28599727923.789986},\n",
       "  {'Nivel Gobierno ID': 'R',\n",
       "   'Nivel Gobierno': 'GOBIERNOS REGIONALES',\n",
       "   'Year': 2014,\n",
       "   'PIA': 3114372220.0,\n",
       "   'PIM': 6281044629.0,\n",
       "   'Monto Recaudado': 6562816261.09},\n",
       "  {'Nivel Gobierno ID': 'R',\n",
       "   'Nivel Gobierno': 'GOBIERNOS REGIONALES',\n",
       "   'Year': 2015,\n",
       "   'PIA': 2913614835.0,\n",
       "   'PIM': 5919801061.0,\n",
       "   'Monto Recaudado': 6441917595.21},\n",
       "  {'Nivel Gobierno ID': 'R',\n",
       "   'Nivel Gobierno': 'GOBIERNOS REGIONALES',\n",
       "   'Year': 2016,\n",
       "   'PIA': 2495592473.0,\n",
       "   'PIM': 7107196100.0,\n",
       "   'Monto Recaudado': 7187160970.090002},\n",
       "  {'Nivel Gobierno ID': 'R',\n",
       "   'Nivel Gobierno': 'GOBIERNOS REGIONALES',\n",
       "   'Year': 2017,\n",
       "   'PIA': 3048405292.0,\n",
       "   'PIM': 7255058551.0,\n",
       "   'Monto Recaudado': 7321298700.110002},\n",
       "  {'Nivel Gobierno ID': 'R',\n",
       "   'Nivel Gobierno': 'GOBIERNOS REGIONALES',\n",
       "   'Year': 2018,\n",
       "   'PIA': 3467117980.0,\n",
       "   'PIM': 10988654063.0,\n",
       "   'Monto Recaudado': 9312786058.74},\n",
       "  {'Nivel Gobierno ID': 'R',\n",
       "   'Nivel Gobierno': 'GOBIERNOS REGIONALES',\n",
       "   'Year': 2019,\n",
       "   'PIA': 4559669217.0,\n",
       "   'PIM': 9745066510.0,\n",
       "   'Monto Recaudado': 9022286503.380003},\n",
       "  {'Nivel Gobierno ID': 'R',\n",
       "   'Nivel Gobierno': 'GOBIERNOS REGIONALES',\n",
       "   'Year': 2020,\n",
       "   'PIA': 4260841835.0,\n",
       "   'PIM': 9325317412.0,\n",
       "   'Monto Recaudado': 9035592702.970001},\n",
       "  {'Nivel Gobierno ID': 'R',\n",
       "   'Nivel Gobierno': 'GOBIERNOS REGIONALES',\n",
       "   'Year': 2021,\n",
       "   'PIA': 7570787590.0,\n",
       "   'PIM': 13098714160.0,\n",
       "   'Monto Recaudado': 9891401681.680002}],\n",
       " 'source': [{'name': 'mef_ingresos',\n",
       "   'measures': ['PIA', 'PIM', 'Monto Recaudado'],\n",
       "   'annotations': {'source_description': 'Ministerio de Economía y Finanzas',\n",
       "    'source_name': 'MEF',\n",
       "    'dataset_name': 'Recaudación Presupuestal',\n",
       "    'dataset_link': 'https://www.gob.pe/mef'}}]}"
      ]
     },
     "execution_count": 12,
     "metadata": {},
     "output_type": "execute_result"
    }
   ],
   "source": [
    "datos = r.json()            \n",
    "datos #el archivo JSON está en formato de dict"
   ]
  },
  {
   "cell_type": "code",
   "execution_count": 13,
   "id": "a6637155",
   "metadata": {},
   "outputs": [
    {
     "name": "stdout",
     "output_type": "stream",
     "text": [
      "dict_keys(['data', 'source'])\n"
     ]
    }
   ],
   "source": [
    "print(datos.keys())         #observamos las keys del dict"
   ]
  },
  {
   "cell_type": "code",
   "execution_count": 15,
   "id": "42deddb8",
   "metadata": {},
   "outputs": [
    {
     "name": "stdout",
     "output_type": "stream",
     "text": [
      "24\n",
      "1\n"
     ]
    }
   ],
   "source": [
    "print(len(datos['data']))\n",
    "print(len(datos['source']))        \n",
    "#Key \"data\" is the only relevant"
   ]
  },
  {
   "cell_type": "code",
   "execution_count": 16,
   "id": "26ebbd89",
   "metadata": {},
   "outputs": [
    {
     "name": "stdout",
     "output_type": "stream",
     "text": [
      "   Nivel Gobierno ID        Nivel Gobierno  Year           PIA           PIM  \\\n",
      "0                  E     GOBIERNO NACIONAL  2014  1.648993e+10  2.197446e+10   \n",
      "1                  E     GOBIERNO NACIONAL  2015  2.045049e+10  3.107036e+10   \n",
      "2                  E     GOBIERNO NACIONAL  2016  3.606987e+10  3.642068e+10   \n",
      "3                  E     GOBIERNO NACIONAL  2017  3.237737e+10  3.634950e+10   \n",
      "4                  E     GOBIERNO NACIONAL  2018  3.560657e+10  3.668950e+10   \n",
      "5                  E     GOBIERNO NACIONAL  2019  4.054008e+10  4.136015e+10   \n",
      "6                  E     GOBIERNO NACIONAL  2020  3.766605e+10  5.116306e+10   \n",
      "7                  E     GOBIERNO NACIONAL  2021  5.630467e+10  6.640203e+10   \n",
      "8                  M     GOBIERNOS LOCALES  2014  1.635295e+10  2.708859e+10   \n",
      "9                  M     GOBIERNOS LOCALES  2015  1.523068e+10  2.400451e+10   \n",
      "10                 M     GOBIERNOS LOCALES  2016  1.426991e+10  2.646827e+10   \n",
      "11                 M     GOBIERNOS LOCALES  2017  1.455345e+10  2.912755e+10   \n",
      "12                 M     GOBIERNOS LOCALES  2018  1.538626e+10  3.380215e+10   \n",
      "13                 M     GOBIERNOS LOCALES  2019  1.717695e+10  3.061908e+10   \n",
      "14                 M     GOBIERNOS LOCALES  2020  1.797545e+10  3.494427e+10   \n",
      "15                 M     GOBIERNOS LOCALES  2021  1.961283e+10  3.643339e+10   \n",
      "16                 R  GOBIERNOS REGIONALES  2014  3.114372e+09  6.281045e+09   \n",
      "17                 R  GOBIERNOS REGIONALES  2015  2.913615e+09  5.919801e+09   \n",
      "18                 R  GOBIERNOS REGIONALES  2016  2.495592e+09  7.107196e+09   \n",
      "19                 R  GOBIERNOS REGIONALES  2017  3.048405e+09  7.255059e+09   \n",
      "20                 R  GOBIERNOS REGIONALES  2018  3.467118e+09  1.098865e+10   \n",
      "21                 R  GOBIERNOS REGIONALES  2019  4.559669e+09  9.745067e+09   \n",
      "22                 R  GOBIERNOS REGIONALES  2020  4.260842e+09  9.325317e+09   \n",
      "23                 R  GOBIERNOS REGIONALES  2021  7.570788e+09  1.309871e+10   \n",
      "\n",
      "    Monto Recaudado  \n",
      "0      3.411030e+10  \n",
      "1      5.086660e+10  \n",
      "2      5.482149e+10  \n",
      "3      5.403415e+10  \n",
      "4      5.055977e+10  \n",
      "5      5.334607e+10  \n",
      "6      6.107350e+10  \n",
      "7      5.169883e+10  \n",
      "8      2.587264e+10  \n",
      "9      2.339976e+10  \n",
      "10     2.597905e+10  \n",
      "11     2.888497e+10  \n",
      "12     3.242738e+10  \n",
      "13     2.921750e+10  \n",
      "14     3.347296e+10  \n",
      "15     2.859973e+10  \n",
      "16     6.562816e+09  \n",
      "17     6.441918e+09  \n",
      "18     7.187161e+09  \n",
      "19     7.321299e+09  \n",
      "20     9.312786e+09  \n",
      "21     9.022287e+09  \n",
      "22     9.035593e+09  \n",
      "23     9.891402e+09  \n"
     ]
    }
   ],
   "source": [
    "#save \"data\" in a df\n",
    "df = pd.DataFrame(datos['data'])  \n",
    "print(df)"
   ]
  },
  {
   "cell_type": "markdown",
   "id": "5606e0e8",
   "metadata": {},
   "source": [
    "#### 2.\n",
    "¿Cuántas variables hay y cuáles son sus nombres de ‘df’?"
   ]
  },
  {
   "cell_type": "code",
   "execution_count": 17,
   "id": "3ad52904",
   "metadata": {},
   "outputs": [
    {
     "name": "stdout",
     "output_type": "stream",
     "text": [
      "Index(['Nivel Gobierno ID', 'Nivel Gobierno', 'Year', 'PIA', 'PIM',\n",
      "       'Monto Recaudado'],\n",
      "      dtype='object')\n",
      "Hay 6 variables\n"
     ]
    }
   ],
   "source": [
    "print(df.columns)    \n",
    "print('Hay ' +str(len(df.columns)) + ' variables')"
   ]
  },
  {
   "cell_type": "markdown",
   "id": "0f848770",
   "metadata": {},
   "source": [
    "#### 3.\n",
    "Filtre la información de ‘df’ y quédese con las columnas 'Nivel Gobierno','PIA', 'PIM' \n",
    "y 'Monto Recaudado' para el año 2021. Guárdelo como 'dataperu'"
   ]
  },
  {
   "cell_type": "code",
   "execution_count": 18,
   "id": "3a86b5bf",
   "metadata": {},
   "outputs": [
    {
     "data": {
      "text/plain": [
       "Nivel Gobierno ID     object\n",
       "Nivel Gobierno        object\n",
       "Year                   int64\n",
       "PIA                  float64\n",
       "PIM                  float64\n",
       "Monto Recaudado      float64\n",
       "dtype: object"
      ]
     },
     "execution_count": 18,
     "metadata": {},
     "output_type": "execute_result"
    }
   ],
   "source": [
    "#format of each column\n",
    "df.dtypes"
   ]
  },
  {
   "cell_type": "code",
   "execution_count": 19,
   "id": "4fd43e70",
   "metadata": {},
   "outputs": [
    {
     "name": "stdout",
     "output_type": "stream",
     "text": [
      "          Nivel Gobierno           PIA           PIM  Monto Recaudado\n",
      "7      GOBIERNO NACIONAL  5.630467e+10  6.640203e+10     5.169883e+10\n",
      "15     GOBIERNOS LOCALES  1.961283e+10  3.643339e+10     2.859973e+10\n",
      "23  GOBIERNOS REGIONALES  7.570788e+09  1.309871e+10     9.891402e+09\n"
     ]
    }
   ],
   "source": [
    "#filter the relevant columns in year 2021\n",
    "dataperu = df[['Nivel Gobierno','PIA', 'PIM', 'Monto Recaudado']][df['Year']==2021]\n",
    "print(dataperu) "
   ]
  },
  {
   "cell_type": "markdown",
   "id": "47633380",
   "metadata": {},
   "source": [
    "### Merge both datasets"
   ]
  },
  {
   "cell_type": "code",
   "execution_count": 26,
   "id": "957af1bc",
   "metadata": {},
   "outputs": [
    {
     "name": "stdout",
     "output_type": "stream",
     "text": [
      "MONTO_PIA          float64\n",
      "MONTO_PIM          float64\n",
      "MONTO_RECAUDADO    float64\n",
      "dtype: object\n",
      "Nivel Gobierno      object\n",
      "PIA                float64\n",
      "PIM                float64\n",
      "Monto Recaudado    float64\n",
      "dtype: object\n"
     ]
    }
   ],
   "source": [
    "# First, verify the format of each df\n",
    "print(datosabiertos.dtypes)         \n",
    "print(dataperu.dtypes)  \n"
   ]
  },
  {
   "cell_type": "code",
   "execution_count": 29,
   "id": "22661251",
   "metadata": {},
   "outputs": [
    {
     "name": "stdout",
     "output_type": "stream",
     "text": [
      "          Nivel Gobierno           PIA           PIM  Monto Recaudado  \\\n",
      "7      GOBIERNO NACIONAL  5.630467e+10  6.640203e+10     5.169883e+10   \n",
      "15     GOBIERNOS LOCALES  1.961283e+10  3.643339e+10     2.859973e+10   \n",
      "23  GOBIERNOS REGIONALES  7.570788e+09  1.309871e+10     9.891402e+09   \n",
      "\n",
      "       MONTO_PIA     MONTO_PIM  MONTO_RECAUDADO  \n",
      "7   1.106878e+06  1.304592e+06     1.580821e+06  \n",
      "15  2.932922e+04  6.220367e+04     5.989785e+04  \n",
      "23  8.897493e+04  1.725983e+05     1.709555e+05  \n"
     ]
    }
   ],
   "source": [
    "#use \"index\" as the method to merge\n",
    "merged = dataperu.merge(datosabiertos ,how = 'inner' ,\n",
    "                          right_index=True, left_on='Nivel Gobierno')\n",
    "\n",
    "print(merged)"
   ]
  }
 ],
 "metadata": {
  "kernelspec": {
   "display_name": "Python 3 (ipykernel)",
   "language": "python",
   "name": "python3"
  },
  "language_info": {
   "codemirror_mode": {
    "name": "ipython",
    "version": 3
   },
   "file_extension": ".py",
   "mimetype": "text/x-python",
   "name": "python",
   "nbconvert_exporter": "python",
   "pygments_lexer": "ipython3",
   "version": "3.9.7"
  }
 },
 "nbformat": 4,
 "nbformat_minor": 5
}
