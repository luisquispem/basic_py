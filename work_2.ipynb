{
 "cells": [
  {
   "cell_type": "markdown",
   "id": "6a86a9f3",
   "metadata": {},
   "source": [
    "##  Test 2"
   ]
  },
  {
   "cell_type": "code",
   "execution_count": 1,
   "id": "6071e249",
   "metadata": {},
   "outputs": [],
   "source": [
    "#import relevant pkgs\n",
    "import pandas as pd\n",
    "import matplotlib.pyplot as plt\n"
   ]
  },
  {
   "cell_type": "markdown",
   "id": "4782d8f0",
   "metadata": {},
   "source": [
    "### 1. Data manipulaton "
   ]
  },
  {
   "cell_type": "code",
   "execution_count": 2,
   "id": "58ef4797",
   "metadata": {},
   "outputs": [],
   "source": [
    "# import \"csv data\" from online\n",
    "data= pd.read_csv(\n",
    "    \"https://raw.githubusercontent.com/Patortiz26/IN6531-Miner-a-de-datos-2021-2/main/SFO.csv\", index_col=(0))"
   ]
  },
  {
   "cell_type": "code",
   "execution_count": 3,
   "id": "370c3e05",
   "metadata": {},
   "outputs": [
    {
     "data": {
      "text/html": [
       "<div>\n",
       "<style scoped>\n",
       "    .dataframe tbody tr th:only-of-type {\n",
       "        vertical-align: middle;\n",
       "    }\n",
       "\n",
       "    .dataframe tbody tr th {\n",
       "        vertical-align: top;\n",
       "    }\n",
       "\n",
       "    .dataframe thead th {\n",
       "        text-align: right;\n",
       "    }\n",
       "</style>\n",
       "<table border=\"1\" class=\"dataframe\">\n",
       "  <thead>\n",
       "    <tr style=\"text-align: right;\">\n",
       "      <th></th>\n",
       "      <th>Permit Number</th>\n",
       "      <th>Permit Type</th>\n",
       "      <th>Permit Type Definition</th>\n",
       "      <th>Permit Creation Date</th>\n",
       "      <th>Block</th>\n",
       "      <th>Lot</th>\n",
       "      <th>Street Number</th>\n",
       "      <th>Street Name</th>\n",
       "      <th>Street Suffix</th>\n",
       "      <th>Description</th>\n",
       "      <th>...</th>\n",
       "      <th>Estimated Cost</th>\n",
       "      <th>Revised Cost</th>\n",
       "      <th>Existing Units</th>\n",
       "      <th>Proposed Units</th>\n",
       "      <th>Existing Construction Type</th>\n",
       "      <th>Zipcode</th>\n",
       "      <th>Record ID</th>\n",
       "      <th>days elapsed</th>\n",
       "      <th>permit duration</th>\n",
       "      <th>permit slack</th>\n",
       "    </tr>\n",
       "    <tr>\n",
       "      <th>Unnamed: 0</th>\n",
       "      <th></th>\n",
       "      <th></th>\n",
       "      <th></th>\n",
       "      <th></th>\n",
       "      <th></th>\n",
       "      <th></th>\n",
       "      <th></th>\n",
       "      <th></th>\n",
       "      <th></th>\n",
       "      <th></th>\n",
       "      <th></th>\n",
       "      <th></th>\n",
       "      <th></th>\n",
       "      <th></th>\n",
       "      <th></th>\n",
       "      <th></th>\n",
       "      <th></th>\n",
       "      <th></th>\n",
       "      <th></th>\n",
       "      <th></th>\n",
       "      <th></th>\n",
       "    </tr>\n",
       "  </thead>\n",
       "  <tbody>\n",
       "    <tr>\n",
       "      <th>131226</th>\n",
       "      <td>201607223097</td>\n",
       "      <td>8</td>\n",
       "      <td>otc alterations permit</td>\n",
       "      <td>07/22/2016</td>\n",
       "      <td>0986</td>\n",
       "      <td>021</td>\n",
       "      <td>3421</td>\n",
       "      <td>Jackson</td>\n",
       "      <td>St</td>\n",
       "      <td>remodel of exisitng s.f.h.  remove &amp; replace (...</td>\n",
       "      <td>...</td>\n",
       "      <td>94000.0</td>\n",
       "      <td>94000.0</td>\n",
       "      <td>1.0</td>\n",
       "      <td>1.0</td>\n",
       "      <td>5.0</td>\n",
       "      <td>94118.0</td>\n",
       "      <td>143106386136</td>\n",
       "      <td>NaN</td>\n",
       "      <td>360.0</td>\n",
       "      <td>NaN</td>\n",
       "    </tr>\n",
       "    <tr>\n",
       "      <th>167160</th>\n",
       "      <td>201608316424</td>\n",
       "      <td>8</td>\n",
       "      <td>otc alterations permit</td>\n",
       "      <td>08/31/2016</td>\n",
       "      <td>0943</td>\n",
       "      <td>006</td>\n",
       "      <td>2656</td>\n",
       "      <td>Filbert</td>\n",
       "      <td>St</td>\n",
       "      <td>revision to 201608054286 structural changes to...</td>\n",
       "      <td>...</td>\n",
       "      <td>50000.0</td>\n",
       "      <td>50000.0</td>\n",
       "      <td>1.0</td>\n",
       "      <td>1.0</td>\n",
       "      <td>5.0</td>\n",
       "      <td>94123.0</td>\n",
       "      <td>143564684896</td>\n",
       "      <td>344.0</td>\n",
       "      <td>360.0</td>\n",
       "      <td>39.0</td>\n",
       "    </tr>\n",
       "    <tr>\n",
       "      <th>13397</th>\n",
       "      <td>201305227621</td>\n",
       "      <td>8</td>\n",
       "      <td>otc alterations permit</td>\n",
       "      <td>05/22/2013</td>\n",
       "      <td>3569</td>\n",
       "      <td>014</td>\n",
       "      <td>2072</td>\n",
       "      <td>Mission</td>\n",
       "      <td>St</td>\n",
       "      <td>to comply with ordinance #029-13 only: install...</td>\n",
       "      <td>...</td>\n",
       "      <td>200.0</td>\n",
       "      <td>200.0</td>\n",
       "      <td>87.0</td>\n",
       "      <td>87.0</td>\n",
       "      <td>3.0</td>\n",
       "      <td>94110.0</td>\n",
       "      <td>1305642404944</td>\n",
       "      <td>50.0</td>\n",
       "      <td>360.0</td>\n",
       "      <td>310.0</td>\n",
       "    </tr>\n",
       "    <tr>\n",
       "      <th>89944</th>\n",
       "      <td>M597427</td>\n",
       "      <td>8</td>\n",
       "      <td>otc alterations permit</td>\n",
       "      <td>06/24/2015</td>\n",
       "      <td>6522</td>\n",
       "      <td>013</td>\n",
       "      <td>2860</td>\n",
       "      <td>Harrison</td>\n",
       "      <td>St</td>\n",
       "      <td>street space</td>\n",
       "      <td>...</td>\n",
       "      <td>NaN</td>\n",
       "      <td>1.0</td>\n",
       "      <td>NaN</td>\n",
       "      <td>NaN</td>\n",
       "      <td>NaN</td>\n",
       "      <td>94110.0</td>\n",
       "      <td>1386152206122</td>\n",
       "      <td>NaN</td>\n",
       "      <td>NaN</td>\n",
       "      <td>NaN</td>\n",
       "    </tr>\n",
       "    <tr>\n",
       "      <th>140843</th>\n",
       "      <td>M733647</td>\n",
       "      <td>8</td>\n",
       "      <td>otc alterations permit</td>\n",
       "      <td>10/27/2016</td>\n",
       "      <td>3582</td>\n",
       "      <td>005</td>\n",
       "      <td>430</td>\n",
       "      <td>Noe</td>\n",
       "      <td>St</td>\n",
       "      <td>street space</td>\n",
       "      <td>...</td>\n",
       "      <td>NaN</td>\n",
       "      <td>1.0</td>\n",
       "      <td>NaN</td>\n",
       "      <td>NaN</td>\n",
       "      <td>NaN</td>\n",
       "      <td>94114.0</td>\n",
       "      <td>1442267159920</td>\n",
       "      <td>NaN</td>\n",
       "      <td>NaN</td>\n",
       "      <td>NaN</td>\n",
       "    </tr>\n",
       "  </tbody>\n",
       "</table>\n",
       "<p>5 rows × 25 columns</p>\n",
       "</div>"
      ],
      "text/plain": [
       "           Permit Number  Permit Type  Permit Type Definition  \\\n",
       "Unnamed: 0                                                      \n",
       "131226      201607223097            8  otc alterations permit   \n",
       "167160      201608316424            8  otc alterations permit   \n",
       "13397       201305227621            8  otc alterations permit   \n",
       "89944            M597427            8  otc alterations permit   \n",
       "140843           M733647            8  otc alterations permit   \n",
       "\n",
       "           Permit Creation Date Block  Lot  Street Number Street Name  \\\n",
       "Unnamed: 0                                                              \n",
       "131226               07/22/2016  0986  021           3421     Jackson   \n",
       "167160               08/31/2016  0943  006           2656     Filbert   \n",
       "13397                05/22/2013  3569  014           2072     Mission   \n",
       "89944                06/24/2015  6522  013           2860    Harrison   \n",
       "140843               10/27/2016  3582  005            430         Noe   \n",
       "\n",
       "           Street Suffix                                        Description  \\\n",
       "Unnamed: 0                                                                    \n",
       "131226                St  remodel of exisitng s.f.h.  remove & replace (...   \n",
       "167160                St  revision to 201608054286 structural changes to...   \n",
       "13397                 St  to comply with ordinance #029-13 only: install...   \n",
       "89944                 St                                       street space   \n",
       "140843                St                                       street space   \n",
       "\n",
       "            ... Estimated Cost Revised Cost  Existing Units  Proposed Units  \\\n",
       "Unnamed: 0  ...                                                               \n",
       "131226      ...        94000.0      94000.0             1.0             1.0   \n",
       "167160      ...        50000.0      50000.0             1.0             1.0   \n",
       "13397       ...          200.0        200.0            87.0            87.0   \n",
       "89944       ...            NaN          1.0             NaN             NaN   \n",
       "140843      ...            NaN          1.0             NaN             NaN   \n",
       "\n",
       "           Existing Construction Type  Zipcode      Record ID  days elapsed  \\\n",
       "Unnamed: 0                                                                    \n",
       "131226                            5.0  94118.0   143106386136           NaN   \n",
       "167160                            5.0  94123.0   143564684896         344.0   \n",
       "13397                             3.0  94110.0  1305642404944          50.0   \n",
       "89944                             NaN  94110.0  1386152206122           NaN   \n",
       "140843                            NaN  94114.0  1442267159920           NaN   \n",
       "\n",
       "            permit duration  permit slack  \n",
       "Unnamed: 0                                 \n",
       "131226                360.0           NaN  \n",
       "167160                360.0          39.0  \n",
       "13397                 360.0         310.0  \n",
       "89944                   NaN           NaN  \n",
       "140843                  NaN           NaN  \n",
       "\n",
       "[5 rows x 25 columns]"
      ]
     },
     "execution_count": 3,
     "metadata": {},
     "output_type": "execute_result"
    }
   ],
   "source": [
    "#print data head\n",
    "data.head()"
   ]
  },
  {
   "cell_type": "code",
   "execution_count": 4,
   "id": "1ca045b0",
   "metadata": {},
   "outputs": [
    {
     "name": "stdout",
     "output_type": "stream",
     "text": [
      "994500\n",
      "(39780, 25)\n"
     ]
    },
    {
     "data": {
      "text/plain": [
       "Permit Number                  object\n",
       "Permit Type                     int64\n",
       "Permit Type Definition         object\n",
       "Permit Creation Date           object\n",
       "Block                          object\n",
       "Lot                            object\n",
       "Street Number                   int64\n",
       "Street Name                    object\n",
       "Street Suffix                  object\n",
       "Description                    object\n",
       "Current Status                 object\n",
       "Current Status Date            object\n",
       "Number of Existing Stories    float64\n",
       "Number of Proposed Stories    float64\n",
       "Fire Only Permit               object\n",
       "Estimated Cost                float64\n",
       "Revised Cost                  float64\n",
       "Existing Units                float64\n",
       "Proposed Units                float64\n",
       "Existing Construction Type    float64\n",
       "Zipcode                       float64\n",
       "Record ID                       int64\n",
       "days elapsed                  float64\n",
       "permit duration               float64\n",
       "permit slack                  float64\n",
       "dtype: object"
      ]
     },
     "execution_count": 4,
     "metadata": {},
     "output_type": "execute_result"
    }
   ],
   "source": [
    "# relevant information about the dataset\n",
    "\n",
    "print(data.size)    #cantidad de datos en el dataframe\n",
    "print(data.shape)   #dimensiones del DF == 39780 rows x 25 columns\n",
    "data.dtypes         #tipo de datos por columna"
   ]
  },
  {
   "cell_type": "code",
   "execution_count": 5,
   "id": "2dbd06c6",
   "metadata": {},
   "outputs": [
    {
     "name": "stdout",
     "output_type": "stream",
     "text": [
      "                             0\n",
      "0                Permit Number\n",
      "1                  Permit Type\n",
      "2       Permit Type Definition\n",
      "3         Permit Creation Date\n",
      "4                        Block\n",
      "5                          Lot\n",
      "6                Street Number\n",
      "7                  Street Name\n",
      "8                Street Suffix\n",
      "9                  Description\n",
      "10              Current Status\n",
      "11         Current Status Date\n",
      "12  Number of Existing Stories\n",
      "13  Number of Proposed Stories\n",
      "14            Fire Only Permit\n",
      "15              Estimated Cost\n",
      "16                Revised Cost\n",
      "17              Existing Units\n",
      "18              Proposed Units\n",
      "19  Existing Construction Type\n",
      "20                     Zipcode\n",
      "21                   Record ID\n",
      "22                days elapsed\n",
      "23             permit duration\n",
      "24                permit slack\n"
     ]
    }
   ],
   "source": [
    "print(pd.DataFrame(data.columns))   #name of each variable"
   ]
  },
  {
   "cell_type": "code",
   "execution_count": 6,
   "id": "e693b210",
   "metadata": {},
   "outputs": [
    {
     "name": "stdout",
     "output_type": "stream",
     "text": [
      "25\n"
     ]
    }
   ],
   "source": [
    "print(pd.DataFrame(data.columns).size)    #quantity of variables"
   ]
  },
  {
   "cell_type": "code",
   "execution_count": 7,
   "id": "830ad757",
   "metadata": {},
   "outputs": [
    {
     "name": "stdout",
     "output_type": "stream",
     "text": [
      "Street Suffix                 True\n",
      "Description                   True\n",
      "Number of Existing Stories    True\n",
      "Number of Proposed Stories    True\n",
      "Fire Only Permit              True\n",
      "Estimated Cost                True\n",
      "Revised Cost                  True\n",
      "Existing Units                True\n",
      "Proposed Units                True\n",
      "Existing Construction Type    True\n",
      "Zipcode                       True\n",
      "days elapsed                  True\n",
      "permit duration               True\n",
      "permit slack                  True\n",
      "dtype: bool\n",
      "14\n"
     ]
    }
   ],
   "source": [
    "#create a dataframe that includes columns with NaNs\n",
    "vacios = data.isna().any()[lambda x: x]     \n",
    "print(vacios)                               #name of columns with NaNs\n",
    "print(vacios.count())                       #number of columns with NaNs"
   ]
  },
  {
   "cell_type": "code",
   "execution_count": 8,
   "id": "aa41e9c3",
   "metadata": {},
   "outputs": [],
   "source": [
    "#get the mean of columns with NaNs to fill them later\n",
    "\n",
    "mean_nps=round(data['Number of Proposed Stories'].mean() ,0 )   \n",
    "mean_days=round(data['days elapsed'].mean(),0)"
   ]
  },
  {
   "cell_type": "code",
   "execution_count": 9,
   "id": "8f157e1d",
   "metadata": {},
   "outputs": [
    {
     "data": {
      "image/png": "[encoded data removed]",
      "text/plain": [
       "<Figure size 432x288 with 1 Axes>"
      ]
     },
     "metadata": {
      "needs_background": "light"
     },
     "output_type": "display_data"
    }
   ],
   "source": [
    "# get the these  variables with NaNs and will mean filled\n",
    "\n",
    "plt.figure()    #histogram\n",
    "plt.hist(data['Number of Proposed Stories'], bins=5,color=\"Green\")\n",
    "plt.xlabel('Pisos propuestos');\n",
    "plt.title('Cantidad de casas que proponen más pisos - before');\n",
    "plt.ylabel('Cantidad de casas');\n",
    "plt.show()\n"
   ]
  },
  {
   "cell_type": "code",
   "execution_count": 10,
   "id": "860e5e35",
   "metadata": {},
   "outputs": [
    {
     "name": "stdout",
     "output_type": "stream",
     "text": [
      "Unnamed: 0\n",
      "131226    3.0\n",
      "167160    4.0\n",
      "13397     3.0\n",
      "89944     NaN\n",
      "140843    NaN\n",
      "         ... \n",
      "144872    7.0\n",
      "122369    2.0\n",
      "104052    2.0\n",
      "94514     NaN\n",
      "64489     NaN\n",
      "Name: Number of Proposed Stories, Length: 39780, dtype: float64\n",
      "Unnamed: 0\n",
      "131226    3.0\n",
      "167160    4.0\n",
      "13397     3.0\n",
      "89944     6.0\n",
      "140843    6.0\n",
      "         ... \n",
      "144872    7.0\n",
      "122369    2.0\n",
      "104052    2.0\n",
      "94514     6.0\n",
      "64489     6.0\n",
      "Name: Number of Proposed Stories, Length: 39780, dtype: float64\n"
     ]
    }
   ],
   "source": [
    "# fill NaNs\n",
    "\n",
    "print(data['Number of Proposed Stories'])   #before\n",
    "data['Number of Proposed Stories']=data['Number of Proposed Stories'].fillna(mean_nps)  #fill NaNs with mean\n",
    "print(data['Number of Proposed Stories'])   #after\n"
   ]
  },
  {
   "cell_type": "code",
   "execution_count": 11,
   "id": "ce0f8acc",
   "metadata": {},
   "outputs": [
    {
     "data": {
      "image/png": "[encoded data removed]",
      "text/plain": [
       "<Figure size 432x288 with 1 Axes>"
      ]
     },
     "metadata": {
      "needs_background": "light"
     },
     "output_type": "display_data"
    }
   ],
   "source": [
    "\n",
    "plt.figure()    #visualizamos una figura de histograma antes\n",
    "plt.hist(data['Number of Proposed Stories'], bins=5)\n",
    "plt.xlabel('Pisos propuestos');\n",
    "plt.title('Cantidad de casas que proponen más pisos - after');\n",
    "plt.ylabel('Cantidad de casas');\n",
    "plt.show()\n"
   ]
  },
  {
   "cell_type": "code",
   "execution_count": 12,
   "id": "a88b6d7f",
   "metadata": {},
   "outputs": [
    {
     "data": {
      "image/png": "[encoded data removed]",
      "text/plain": [
       "<Figure size 432x288 with 1 Axes>"
      ]
     },
     "metadata": {
      "needs_background": "light"
     },
     "output_type": "display_data"
    },
    {
     "name": "stdout",
     "output_type": "stream",
     "text": [
      "Unnamed: 0\n",
      "131226      NaN\n",
      "167160    344.0\n",
      "13397      50.0\n",
      "89944       NaN\n",
      "140843      NaN\n",
      "          ...  \n",
      "144872     64.0\n",
      "122369      0.0\n",
      "104052      NaN\n",
      "94514       NaN\n",
      "64489       NaN\n",
      "Name: days elapsed, Length: 39780, dtype: float64\n",
      "Unnamed: 0\n",
      "131226    190.0\n",
      "167160    344.0\n",
      "13397      50.0\n",
      "89944     190.0\n",
      "140843    190.0\n",
      "          ...  \n",
      "144872     64.0\n",
      "122369      0.0\n",
      "104052    190.0\n",
      "94514     190.0\n",
      "64489     190.0\n",
      "Name: days elapsed, Length: 39780, dtype: float64\n"
     ]
    },
    {
     "data": {
      "image/png": "[encoded data removed]",
      "text/plain": [
       "<Figure size 432x288 with 1 Axes>"
      ]
     },
     "metadata": {
      "needs_background": "light"
     },
     "output_type": "display_data"
    },
    {
     "name": "stdout",
     "output_type": "stream",
     "text": [
      "Street Suffix                 True\n",
      "Description                   True\n",
      "Number of Existing Stories    True\n",
      "Fire Only Permit              True\n",
      "Estimated Cost                True\n",
      "Revised Cost                  True\n",
      "Existing Units                True\n",
      "Proposed Units                True\n",
      "Existing Construction Type    True\n",
      "Zipcode                       True\n",
      "permit duration               True\n",
      "permit slack                  True\n",
      "dtype: bool\n",
      "12\n"
     ]
    }
   ],
   "source": [
    "# repeat the process with the other column\n",
    "\n",
    "plt.figure()    #visualizamos una figura de histograma antes\n",
    "plt.hist(data['days elapsed'], bins=8, color='Red')\n",
    "plt.xlabel('Días');\n",
    "plt.title('Cantidad de días para completar la obra - before');\n",
    "plt.ylabel('Número de obras');\n",
    "plt.show()\n",
    "\n",
    "print(data['days elapsed'])  \n",
    "data['days elapsed']=data['days elapsed'].fillna(mean_days)  #reemplazamos las vacias\n",
    "print(data['days elapsed'])  \n",
    "\n",
    "plt.figure()    #visualizamos una figura de histograma antes\n",
    "plt.hist(data['days elapsed'], bins=8)\n",
    "plt.xlabel('Días');\n",
    "plt.title('Cantidad de días para completar la obra - after');\n",
    "plt.ylabel('Número de obras');\n",
    "plt.show()\n",
    "\n",
    "#verificamos que no hay vacios\n",
    "vacios = data.isna().any()[lambda x: x]     #fila de faltantes\n",
    "print(vacios)\n",
    "print(vacios.count())                       #se redujeron a 12 las columnas vacías\n"
   ]
  },
  {
   "cell_type": "code",
   "execution_count": 13,
   "id": "0c60e942",
   "metadata": {},
   "outputs": [
    {
     "name": "stdout",
     "output_type": "stream",
     "text": [
      "Street Suffix                 True\n",
      "Description                   True\n",
      "Number of Existing Stories    True\n",
      "Fire Only Permit              True\n",
      "Estimated Cost                True\n",
      "Revised Cost                  True\n",
      "Existing Units                True\n",
      "Proposed Units                True\n",
      "Existing Construction Type    True\n",
      "Zipcode                       True\n",
      "permit duration               True\n",
      "permit slack                  True\n",
      "dtype: bool\n",
      "12\n"
     ]
    }
   ],
   "source": [
    "# update the dataframe and check how many columns contain NaNs\n",
    "vacios = data.isna().any()[lambda x: x]     #fila de faltantes\n",
    "print(vacios)\n",
    "print(vacios.count())                       #se redujeron a 12 las columnas vacías\n"
   ]
  },
  {
   "cell_type": "code",
   "execution_count": 15,
   "id": "35e3834e",
   "metadata": {},
   "outputs": [
    {
     "name": "stdout",
     "output_type": "stream",
     "text": [
      "Unnamed: 0\n",
      "167160    False\n",
      "13397     False\n",
      "107198    False\n",
      "126725    False\n",
      "173600    False\n",
      "          ...  \n",
      "17171     False\n",
      "88280     False\n",
      "98544     False\n",
      "144872    False\n",
      "122369    False\n",
      "Name: permit slack, Length: 19223, dtype: bool\n"
     ]
    }
   ],
   "source": [
    "# eliminate rows with NaNs in column \"permit slack\"\n",
    "\n",
    "data['permit slack'].isnull() \n",
    "data=data.dropna(how='any', \n",
    "            subset=['permit slack']) #[19223 rows x 25 columns] => se redujeron las observaciones\n",
    "\n",
    "print(data['permit slack'].isnull()) #check\n"
   ]
  },
  {
   "cell_type": "code",
   "execution_count": 17,
   "id": "07ff79f7",
   "metadata": {},
   "outputs": [
    {
     "data": {
      "text/plain": [
       "Series([], dtype: bool)"
      ]
     },
     "execution_count": 17,
     "metadata": {},
     "output_type": "execute_result"
    }
   ],
   "source": [
    "#fill all NaNs in the dataset with False (booleans)\n",
    "\n",
    "data.fillna(False)        #llenamos con False los NaN, porque en su mayoría NO APLICAN!\n",
    "\n",
    "data.fillna(False).isna().any()[lambda x: x]    #comprobamos que ya no hay columnas con datos NaN \n"
   ]
  },
  {
   "cell_type": "code",
   "execution_count": 20,
   "id": "eb43522c",
   "metadata": {},
   "outputs": [
    {
     "data": {
      "text/html": [
       "<div>\n",
       "<style scoped>\n",
       "    .dataframe tbody tr th:only-of-type {\n",
       "        vertical-align: middle;\n",
       "    }\n",
       "\n",
       "    .dataframe tbody tr th {\n",
       "        vertical-align: top;\n",
       "    }\n",
       "\n",
       "    .dataframe thead th {\n",
       "        text-align: right;\n",
       "    }\n",
       "</style>\n",
       "<table border=\"1\" class=\"dataframe\">\n",
       "  <thead>\n",
       "    <tr style=\"text-align: right;\">\n",
       "      <th></th>\n",
       "      <th>Permit Number</th>\n",
       "      <th>Permit Type</th>\n",
       "      <th>Permit Type Definition</th>\n",
       "      <th>Permit Creation Date</th>\n",
       "      <th>Block</th>\n",
       "      <th>Lot</th>\n",
       "      <th>Street Number</th>\n",
       "      <th>Street Name</th>\n",
       "      <th>Street Suffix</th>\n",
       "      <th>Description</th>\n",
       "      <th>...</th>\n",
       "      <th>Estimated Cost</th>\n",
       "      <th>Revised Cost</th>\n",
       "      <th>Existing Units</th>\n",
       "      <th>Proposed Units</th>\n",
       "      <th>Existing Construction Type</th>\n",
       "      <th>Zipcode</th>\n",
       "      <th>Record ID</th>\n",
       "      <th>days elapsed</th>\n",
       "      <th>permit duration</th>\n",
       "      <th>permit slack</th>\n",
       "    </tr>\n",
       "    <tr>\n",
       "      <th>Unnamed: 0</th>\n",
       "      <th></th>\n",
       "      <th></th>\n",
       "      <th></th>\n",
       "      <th></th>\n",
       "      <th></th>\n",
       "      <th></th>\n",
       "      <th></th>\n",
       "      <th></th>\n",
       "      <th></th>\n",
       "      <th></th>\n",
       "      <th></th>\n",
       "      <th></th>\n",
       "      <th></th>\n",
       "      <th></th>\n",
       "      <th></th>\n",
       "      <th></th>\n",
       "      <th></th>\n",
       "      <th></th>\n",
       "      <th></th>\n",
       "      <th></th>\n",
       "      <th></th>\n",
       "    </tr>\n",
       "  </thead>\n",
       "  <tbody>\n",
       "    <tr>\n",
       "      <th>167160</th>\n",
       "      <td>201608316424</td>\n",
       "      <td>8</td>\n",
       "      <td>otc alterations permit</td>\n",
       "      <td>08/31/2016</td>\n",
       "      <td>0943</td>\n",
       "      <td>006</td>\n",
       "      <td>2656</td>\n",
       "      <td>Filbert</td>\n",
       "      <td>St</td>\n",
       "      <td>revision to 201608054286 structural changes to...</td>\n",
       "      <td>...</td>\n",
       "      <td>50000.0</td>\n",
       "      <td>50000.0</td>\n",
       "      <td>1.0</td>\n",
       "      <td>1.0</td>\n",
       "      <td>5.0</td>\n",
       "      <td>94123.0</td>\n",
       "      <td>143564684896</td>\n",
       "      <td>344.0</td>\n",
       "      <td>360.0</td>\n",
       "      <td>39.0</td>\n",
       "    </tr>\n",
       "    <tr>\n",
       "      <th>13397</th>\n",
       "      <td>201305227621</td>\n",
       "      <td>8</td>\n",
       "      <td>otc alterations permit</td>\n",
       "      <td>05/22/2013</td>\n",
       "      <td>3569</td>\n",
       "      <td>014</td>\n",
       "      <td>2072</td>\n",
       "      <td>Mission</td>\n",
       "      <td>St</td>\n",
       "      <td>to comply with ordinance #029-13 only: install...</td>\n",
       "      <td>...</td>\n",
       "      <td>200.0</td>\n",
       "      <td>200.0</td>\n",
       "      <td>87.0</td>\n",
       "      <td>87.0</td>\n",
       "      <td>3.0</td>\n",
       "      <td>94110.0</td>\n",
       "      <td>1305642404944</td>\n",
       "      <td>50.0</td>\n",
       "      <td>360.0</td>\n",
       "      <td>310.0</td>\n",
       "    </tr>\n",
       "    <tr>\n",
       "      <th>107198</th>\n",
       "      <td>201511253630</td>\n",
       "      <td>3</td>\n",
       "      <td>additions alterations or repairs</td>\n",
       "      <td>11/25/2015</td>\n",
       "      <td>1808</td>\n",
       "      <td>049</td>\n",
       "      <td>4041</td>\n",
       "      <td>Judah</td>\n",
       "      <td>St</td>\n",
       "      <td>change of use from (e) laundry to a full servi...</td>\n",
       "      <td>...</td>\n",
       "      <td>40000.0</td>\n",
       "      <td>55000.0</td>\n",
       "      <td>0.0</td>\n",
       "      <td>0.0</td>\n",
       "      <td>5.0</td>\n",
       "      <td>94122.0</td>\n",
       "      <td>1404662115181</td>\n",
       "      <td>435.0</td>\n",
       "      <td>360.0</td>\n",
       "      <td>227.0</td>\n",
       "    </tr>\n",
       "    <tr>\n",
       "      <th>126725</th>\n",
       "      <td>201606099480</td>\n",
       "      <td>8</td>\n",
       "      <td>otc alterations permit</td>\n",
       "      <td>06/09/2016</td>\n",
       "      <td>6013</td>\n",
       "      <td>009</td>\n",
       "      <td>184</td>\n",
       "      <td>London</td>\n",
       "      <td>St</td>\n",
       "      <td>replace partial foundation on lower floor per ...</td>\n",
       "      <td>...</td>\n",
       "      <td>5000.0</td>\n",
       "      <td>12000.0</td>\n",
       "      <td>1.0</td>\n",
       "      <td>1.0</td>\n",
       "      <td>5.0</td>\n",
       "      <td>94112.0</td>\n",
       "      <td>1426074193972</td>\n",
       "      <td>264.0</td>\n",
       "      <td>360.0</td>\n",
       "      <td>118.0</td>\n",
       "    </tr>\n",
       "    <tr>\n",
       "      <th>173600</th>\n",
       "      <td>201609016620</td>\n",
       "      <td>3</td>\n",
       "      <td>additions alterations or repairs</td>\n",
       "      <td>09/01/2016</td>\n",
       "      <td>0098</td>\n",
       "      <td>005</td>\n",
       "      <td>1048</td>\n",
       "      <td>Union</td>\n",
       "      <td>St</td>\n",
       "      <td>soft story retrofit to comply w/ sfbc chap 34b...</td>\n",
       "      <td>...</td>\n",
       "      <td>300000.0</td>\n",
       "      <td>300000.0</td>\n",
       "      <td>20.0</td>\n",
       "      <td>20.0</td>\n",
       "      <td>5.0</td>\n",
       "      <td>94133.0</td>\n",
       "      <td>1435924231352</td>\n",
       "      <td>456.0</td>\n",
       "      <td>1080.0</td>\n",
       "      <td>726.0</td>\n",
       "    </tr>\n",
       "    <tr>\n",
       "      <th>...</th>\n",
       "      <td>...</td>\n",
       "      <td>...</td>\n",
       "      <td>...</td>\n",
       "      <td>...</td>\n",
       "      <td>...</td>\n",
       "      <td>...</td>\n",
       "      <td>...</td>\n",
       "      <td>...</td>\n",
       "      <td>...</td>\n",
       "      <td>...</td>\n",
       "      <td>...</td>\n",
       "      <td>...</td>\n",
       "      <td>...</td>\n",
       "      <td>...</td>\n",
       "      <td>...</td>\n",
       "      <td>...</td>\n",
       "      <td>...</td>\n",
       "      <td>...</td>\n",
       "      <td>...</td>\n",
       "      <td>...</td>\n",
       "      <td>...</td>\n",
       "    </tr>\n",
       "    <tr>\n",
       "      <th>17171</th>\n",
       "      <td>201306280725</td>\n",
       "      <td>3</td>\n",
       "      <td>additions alterations or repairs</td>\n",
       "      <td>06/28/2013</td>\n",
       "      <td>0270</td>\n",
       "      <td>037</td>\n",
       "      <td>430</td>\n",
       "      <td>Bush</td>\n",
       "      <td>St</td>\n",
       "      <td>a modification to an extg unmanned roof top te...</td>\n",
       "      <td>...</td>\n",
       "      <td>9000.0</td>\n",
       "      <td>9000.0</td>\n",
       "      <td>False</td>\n",
       "      <td>False</td>\n",
       "      <td>2.0</td>\n",
       "      <td>94108.0</td>\n",
       "      <td>1309586348988</td>\n",
       "      <td>215.0</td>\n",
       "      <td>360.0</td>\n",
       "      <td>297.0</td>\n",
       "    </tr>\n",
       "    <tr>\n",
       "      <th>88280</th>\n",
       "      <td>201506088404</td>\n",
       "      <td>8</td>\n",
       "      <td>otc alterations permit</td>\n",
       "      <td>06/08/2015</td>\n",
       "      <td>6411</td>\n",
       "      <td>032</td>\n",
       "      <td>960</td>\n",
       "      <td>Geneva</td>\n",
       "      <td>Av</td>\n",
       "      <td>repair and replace car damage front metal gate...</td>\n",
       "      <td>...</td>\n",
       "      <td>12500.0</td>\n",
       "      <td>12500.0</td>\n",
       "      <td>1.0</td>\n",
       "      <td>1.0</td>\n",
       "      <td>5.0</td>\n",
       "      <td>94112.0</td>\n",
       "      <td>1384378202481</td>\n",
       "      <td>56.0</td>\n",
       "      <td>360.0</td>\n",
       "      <td>304.0</td>\n",
       "    </tr>\n",
       "    <tr>\n",
       "      <th>98544</th>\n",
       "      <td>201509116755</td>\n",
       "      <td>8</td>\n",
       "      <td>otc alterations permit</td>\n",
       "      <td>09/11/2015</td>\n",
       "      <td>5865</td>\n",
       "      <td>003</td>\n",
       "      <td>16</td>\n",
       "      <td>Princeton</td>\n",
       "      <td>St</td>\n",
       "      <td>replace rotted wood at base of bay  (1 bay @ 2...</td>\n",
       "      <td>...</td>\n",
       "      <td>4600.0</td>\n",
       "      <td>4600.0</td>\n",
       "      <td>1.0</td>\n",
       "      <td>1.0</td>\n",
       "      <td>5.0</td>\n",
       "      <td>94134.0</td>\n",
       "      <td>1395400189674</td>\n",
       "      <td>81.0</td>\n",
       "      <td>360.0</td>\n",
       "      <td>279.0</td>\n",
       "    </tr>\n",
       "    <tr>\n",
       "      <th>144872</th>\n",
       "      <td>201612134770</td>\n",
       "      <td>8</td>\n",
       "      <td>otc alterations permit</td>\n",
       "      <td>12/13/2016</td>\n",
       "      <td>0452</td>\n",
       "      <td>026</td>\n",
       "      <td>900</td>\n",
       "      <td>North Point</td>\n",
       "      <td>St</td>\n",
       "      <td>modify (e) fire alarm system. add (1) booster ...</td>\n",
       "      <td>...</td>\n",
       "      <td>9390.0</td>\n",
       "      <td>9500.0</td>\n",
       "      <td>54.0</td>\n",
       "      <td>54.0</td>\n",
       "      <td>3.0</td>\n",
       "      <td>94109.0</td>\n",
       "      <td>1447169501832</td>\n",
       "      <td>64.0</td>\n",
       "      <td>360.0</td>\n",
       "      <td>296.0</td>\n",
       "    </tr>\n",
       "    <tr>\n",
       "      <th>122369</th>\n",
       "      <td>201604285919</td>\n",
       "      <td>8</td>\n",
       "      <td>otc alterations permit</td>\n",
       "      <td>04/28/2016</td>\n",
       "      <td>0295</td>\n",
       "      <td>016</td>\n",
       "      <td>300</td>\n",
       "      <td>Post</td>\n",
       "      <td>St</td>\n",
       "      <td>administrative permit to correct all apple sto...</td>\n",
       "      <td>...</td>\n",
       "      <td>1.0</td>\n",
       "      <td>1.0</td>\n",
       "      <td>False</td>\n",
       "      <td>False</td>\n",
       "      <td>1.0</td>\n",
       "      <td>94108.0</td>\n",
       "      <td>1421237506413</td>\n",
       "      <td>0.0</td>\n",
       "      <td>360.0</td>\n",
       "      <td>360.0</td>\n",
       "    </tr>\n",
       "  </tbody>\n",
       "</table>\n",
       "<p>19223 rows × 25 columns</p>\n",
       "</div>"
      ],
      "text/plain": [
       "           Permit Number  Permit Type            Permit Type Definition  \\\n",
       "Unnamed: 0                                                                \n",
       "167160      201608316424            8            otc alterations permit   \n",
       "13397       201305227621            8            otc alterations permit   \n",
       "107198      201511253630            3  additions alterations or repairs   \n",
       "126725      201606099480            8            otc alterations permit   \n",
       "173600      201609016620            3  additions alterations or repairs   \n",
       "...                  ...          ...                               ...   \n",
       "17171       201306280725            3  additions alterations or repairs   \n",
       "88280       201506088404            8            otc alterations permit   \n",
       "98544       201509116755            8            otc alterations permit   \n",
       "144872      201612134770            8            otc alterations permit   \n",
       "122369      201604285919            8            otc alterations permit   \n",
       "\n",
       "           Permit Creation Date Block  Lot  Street Number  Street Name  \\\n",
       "Unnamed: 0                                                               \n",
       "167160               08/31/2016  0943  006           2656      Filbert   \n",
       "13397                05/22/2013  3569  014           2072      Mission   \n",
       "107198               11/25/2015  1808  049           4041        Judah   \n",
       "126725               06/09/2016  6013  009            184       London   \n",
       "173600               09/01/2016  0098  005           1048        Union   \n",
       "...                         ...   ...  ...            ...          ...   \n",
       "17171                06/28/2013  0270  037            430         Bush   \n",
       "88280                06/08/2015  6411  032            960       Geneva   \n",
       "98544                09/11/2015  5865  003             16    Princeton   \n",
       "144872               12/13/2016  0452  026            900  North Point   \n",
       "122369               04/28/2016  0295  016            300         Post   \n",
       "\n",
       "           Street Suffix                                        Description  \\\n",
       "Unnamed: 0                                                                    \n",
       "167160                St  revision to 201608054286 structural changes to...   \n",
       "13397                 St  to comply with ordinance #029-13 only: install...   \n",
       "107198                St  change of use from (e) laundry to a full servi...   \n",
       "126725                St  replace partial foundation on lower floor per ...   \n",
       "173600                St  soft story retrofit to comply w/ sfbc chap 34b...   \n",
       "...                  ...                                                ...   \n",
       "17171                 St  a modification to an extg unmanned roof top te...   \n",
       "88280                 Av  repair and replace car damage front metal gate...   \n",
       "98544                 St  replace rotted wood at base of bay  (1 bay @ 2...   \n",
       "144872                St  modify (e) fire alarm system. add (1) booster ...   \n",
       "122369                St  administrative permit to correct all apple sto...   \n",
       "\n",
       "            ... Estimated Cost Revised Cost Existing Units  Proposed Units  \\\n",
       "Unnamed: 0  ...                                                              \n",
       "167160      ...        50000.0      50000.0            1.0             1.0   \n",
       "13397       ...          200.0        200.0           87.0            87.0   \n",
       "107198      ...        40000.0      55000.0            0.0             0.0   \n",
       "126725      ...         5000.0      12000.0            1.0             1.0   \n",
       "173600      ...       300000.0     300000.0           20.0            20.0   \n",
       "...         ...            ...          ...            ...             ...   \n",
       "17171       ...         9000.0       9000.0          False           False   \n",
       "88280       ...        12500.0      12500.0            1.0             1.0   \n",
       "98544       ...         4600.0       4600.0            1.0             1.0   \n",
       "144872      ...         9390.0       9500.0           54.0            54.0   \n",
       "122369      ...            1.0          1.0          False           False   \n",
       "\n",
       "           Existing Construction Type  Zipcode      Record ID days elapsed  \\\n",
       "Unnamed: 0                                                                   \n",
       "167160                            5.0  94123.0   143564684896        344.0   \n",
       "13397                             3.0  94110.0  1305642404944         50.0   \n",
       "107198                            5.0  94122.0  1404662115181        435.0   \n",
       "126725                            5.0  94112.0  1426074193972        264.0   \n",
       "173600                            5.0  94133.0  1435924231352        456.0   \n",
       "...                               ...      ...            ...          ...   \n",
       "17171                             2.0  94108.0  1309586348988        215.0   \n",
       "88280                             5.0  94112.0  1384378202481         56.0   \n",
       "98544                             5.0  94134.0  1395400189674         81.0   \n",
       "144872                            3.0  94109.0  1447169501832         64.0   \n",
       "122369                            1.0  94108.0  1421237506413          0.0   \n",
       "\n",
       "           permit duration permit slack  \n",
       "Unnamed: 0                               \n",
       "167160               360.0         39.0  \n",
       "13397                360.0        310.0  \n",
       "107198               360.0        227.0  \n",
       "126725               360.0        118.0  \n",
       "173600              1080.0        726.0  \n",
       "...                    ...          ...  \n",
       "17171                360.0        297.0  \n",
       "88280                360.0        304.0  \n",
       "98544                360.0        279.0  \n",
       "144872               360.0        296.0  \n",
       "122369               360.0        360.0  \n",
       "\n",
       "[19223 rows x 25 columns]"
      ]
     },
     "execution_count": 20,
     "metadata": {},
     "output_type": "execute_result"
    }
   ],
   "source": [
    "#consolide the dataframe\n",
    "\n",
    "df_alpha = data.fillna(False)          #guardamos la dataframe sin datos faltantes\n",
    "df_alpha.isna().any()[lambda x: x] #comprobamos\n",
    "\n",
    "df_alpha"
   ]
  },
  {
   "cell_type": "markdown",
   "id": "fb539694",
   "metadata": {},
   "source": [
    "### 2. Graphs"
   ]
  },
  {
   "cell_type": "code",
   "execution_count": 50,
   "id": "32adf1b0",
   "metadata": {},
   "outputs": [
    {
     "data": {
      "text/html": [
       "<div>\n",
       "<style scoped>\n",
       "    .dataframe tbody tr th:only-of-type {\n",
       "        vertical-align: middle;\n",
       "    }\n",
       "\n",
       "    .dataframe tbody tr th {\n",
       "        vertical-align: top;\n",
       "    }\n",
       "\n",
       "    .dataframe thead th {\n",
       "        text-align: right;\n",
       "    }\n",
       "</style>\n",
       "<table border=\"1\" class=\"dataframe\">\n",
       "  <thead>\n",
       "    <tr style=\"text-align: right;\">\n",
       "      <th></th>\n",
       "      <th>CRIM</th>\n",
       "      <th>ZN</th>\n",
       "      <th>INDUS</th>\n",
       "      <th>CHAS</th>\n",
       "      <th>NOX</th>\n",
       "      <th>RM</th>\n",
       "      <th>AGE</th>\n",
       "      <th>DIS</th>\n",
       "      <th>RAD</th>\n",
       "      <th>TAX</th>\n",
       "      <th>PTRATIO</th>\n",
       "      <th>B</th>\n",
       "      <th>LSTAT</th>\n",
       "      <th>PRICE</th>\n",
       "    </tr>\n",
       "  </thead>\n",
       "  <tbody>\n",
       "    <tr>\n",
       "      <th>0</th>\n",
       "      <td>0.00632</td>\n",
       "      <td>18.0</td>\n",
       "      <td>2.31</td>\n",
       "      <td>0.0</td>\n",
       "      <td>0.538</td>\n",
       "      <td>6.575</td>\n",
       "      <td>65.2</td>\n",
       "      <td>4.0900</td>\n",
       "      <td>1.0</td>\n",
       "      <td>296.0</td>\n",
       "      <td>15.3</td>\n",
       "      <td>396.90</td>\n",
       "      <td>4.98</td>\n",
       "      <td>24.0</td>\n",
       "    </tr>\n",
       "    <tr>\n",
       "      <th>1</th>\n",
       "      <td>0.02731</td>\n",
       "      <td>0.0</td>\n",
       "      <td>7.07</td>\n",
       "      <td>0.0</td>\n",
       "      <td>0.469</td>\n",
       "      <td>6.421</td>\n",
       "      <td>78.9</td>\n",
       "      <td>4.9671</td>\n",
       "      <td>2.0</td>\n",
       "      <td>242.0</td>\n",
       "      <td>17.8</td>\n",
       "      <td>396.90</td>\n",
       "      <td>9.14</td>\n",
       "      <td>21.6</td>\n",
       "    </tr>\n",
       "    <tr>\n",
       "      <th>2</th>\n",
       "      <td>0.02729</td>\n",
       "      <td>0.0</td>\n",
       "      <td>7.07</td>\n",
       "      <td>0.0</td>\n",
       "      <td>0.469</td>\n",
       "      <td>7.185</td>\n",
       "      <td>61.1</td>\n",
       "      <td>4.9671</td>\n",
       "      <td>2.0</td>\n",
       "      <td>242.0</td>\n",
       "      <td>17.8</td>\n",
       "      <td>392.83</td>\n",
       "      <td>4.03</td>\n",
       "      <td>34.7</td>\n",
       "    </tr>\n",
       "    <tr>\n",
       "      <th>3</th>\n",
       "      <td>0.03237</td>\n",
       "      <td>0.0</td>\n",
       "      <td>2.18</td>\n",
       "      <td>0.0</td>\n",
       "      <td>0.458</td>\n",
       "      <td>6.998</td>\n",
       "      <td>45.8</td>\n",
       "      <td>6.0622</td>\n",
       "      <td>3.0</td>\n",
       "      <td>222.0</td>\n",
       "      <td>18.7</td>\n",
       "      <td>394.63</td>\n",
       "      <td>2.94</td>\n",
       "      <td>33.4</td>\n",
       "    </tr>\n",
       "    <tr>\n",
       "      <th>4</th>\n",
       "      <td>0.06905</td>\n",
       "      <td>0.0</td>\n",
       "      <td>2.18</td>\n",
       "      <td>0.0</td>\n",
       "      <td>0.458</td>\n",
       "      <td>7.147</td>\n",
       "      <td>54.2</td>\n",
       "      <td>6.0622</td>\n",
       "      <td>3.0</td>\n",
       "      <td>222.0</td>\n",
       "      <td>18.7</td>\n",
       "      <td>396.90</td>\n",
       "      <td>5.33</td>\n",
       "      <td>36.2</td>\n",
       "    </tr>\n",
       "    <tr>\n",
       "      <th>...</th>\n",
       "      <td>...</td>\n",
       "      <td>...</td>\n",
       "      <td>...</td>\n",
       "      <td>...</td>\n",
       "      <td>...</td>\n",
       "      <td>...</td>\n",
       "      <td>...</td>\n",
       "      <td>...</td>\n",
       "      <td>...</td>\n",
       "      <td>...</td>\n",
       "      <td>...</td>\n",
       "      <td>...</td>\n",
       "      <td>...</td>\n",
       "      <td>...</td>\n",
       "    </tr>\n",
       "    <tr>\n",
       "      <th>501</th>\n",
       "      <td>0.06263</td>\n",
       "      <td>0.0</td>\n",
       "      <td>11.93</td>\n",
       "      <td>0.0</td>\n",
       "      <td>0.573</td>\n",
       "      <td>6.593</td>\n",
       "      <td>69.1</td>\n",
       "      <td>2.4786</td>\n",
       "      <td>1.0</td>\n",
       "      <td>273.0</td>\n",
       "      <td>21.0</td>\n",
       "      <td>391.99</td>\n",
       "      <td>9.67</td>\n",
       "      <td>22.4</td>\n",
       "    </tr>\n",
       "    <tr>\n",
       "      <th>502</th>\n",
       "      <td>0.04527</td>\n",
       "      <td>0.0</td>\n",
       "      <td>11.93</td>\n",
       "      <td>0.0</td>\n",
       "      <td>0.573</td>\n",
       "      <td>6.120</td>\n",
       "      <td>76.7</td>\n",
       "      <td>2.2875</td>\n",
       "      <td>1.0</td>\n",
       "      <td>273.0</td>\n",
       "      <td>21.0</td>\n",
       "      <td>396.90</td>\n",
       "      <td>9.08</td>\n",
       "      <td>20.6</td>\n",
       "    </tr>\n",
       "    <tr>\n",
       "      <th>503</th>\n",
       "      <td>0.06076</td>\n",
       "      <td>0.0</td>\n",
       "      <td>11.93</td>\n",
       "      <td>0.0</td>\n",
       "      <td>0.573</td>\n",
       "      <td>6.976</td>\n",
       "      <td>91.0</td>\n",
       "      <td>2.1675</td>\n",
       "      <td>1.0</td>\n",
       "      <td>273.0</td>\n",
       "      <td>21.0</td>\n",
       "      <td>396.90</td>\n",
       "      <td>5.64</td>\n",
       "      <td>23.9</td>\n",
       "    </tr>\n",
       "    <tr>\n",
       "      <th>504</th>\n",
       "      <td>0.10959</td>\n",
       "      <td>0.0</td>\n",
       "      <td>11.93</td>\n",
       "      <td>0.0</td>\n",
       "      <td>0.573</td>\n",
       "      <td>6.794</td>\n",
       "      <td>89.3</td>\n",
       "      <td>2.3889</td>\n",
       "      <td>1.0</td>\n",
       "      <td>273.0</td>\n",
       "      <td>21.0</td>\n",
       "      <td>393.45</td>\n",
       "      <td>6.48</td>\n",
       "      <td>22.0</td>\n",
       "    </tr>\n",
       "    <tr>\n",
       "      <th>505</th>\n",
       "      <td>0.04741</td>\n",
       "      <td>0.0</td>\n",
       "      <td>11.93</td>\n",
       "      <td>0.0</td>\n",
       "      <td>0.573</td>\n",
       "      <td>6.030</td>\n",
       "      <td>80.8</td>\n",
       "      <td>2.5050</td>\n",
       "      <td>1.0</td>\n",
       "      <td>273.0</td>\n",
       "      <td>21.0</td>\n",
       "      <td>396.90</td>\n",
       "      <td>7.88</td>\n",
       "      <td>11.9</td>\n",
       "    </tr>\n",
       "  </tbody>\n",
       "</table>\n",
       "<p>506 rows × 14 columns</p>\n",
       "</div>"
      ],
      "text/plain": [
       "        CRIM    ZN  INDUS  CHAS    NOX     RM   AGE     DIS  RAD    TAX  \\\n",
       "0    0.00632  18.0   2.31   0.0  0.538  6.575  65.2  4.0900  1.0  296.0   \n",
       "1    0.02731   0.0   7.07   0.0  0.469  6.421  78.9  4.9671  2.0  242.0   \n",
       "2    0.02729   0.0   7.07   0.0  0.469  7.185  61.1  4.9671  2.0  242.0   \n",
       "3    0.03237   0.0   2.18   0.0  0.458  6.998  45.8  6.0622  3.0  222.0   \n",
       "4    0.06905   0.0   2.18   0.0  0.458  7.147  54.2  6.0622  3.0  222.0   \n",
       "..       ...   ...    ...   ...    ...    ...   ...     ...  ...    ...   \n",
       "501  0.06263   0.0  11.93   0.0  0.573  6.593  69.1  2.4786  1.0  273.0   \n",
       "502  0.04527   0.0  11.93   0.0  0.573  6.120  76.7  2.2875  1.0  273.0   \n",
       "503  0.06076   0.0  11.93   0.0  0.573  6.976  91.0  2.1675  1.0  273.0   \n",
       "504  0.10959   0.0  11.93   0.0  0.573  6.794  89.3  2.3889  1.0  273.0   \n",
       "505  0.04741   0.0  11.93   0.0  0.573  6.030  80.8  2.5050  1.0  273.0   \n",
       "\n",
       "     PTRATIO       B  LSTAT  PRICE  \n",
       "0       15.3  396.90   4.98   24.0  \n",
       "1       17.8  396.90   9.14   21.6  \n",
       "2       17.8  392.83   4.03   34.7  \n",
       "3       18.7  394.63   2.94   33.4  \n",
       "4       18.7  396.90   5.33   36.2  \n",
       "..       ...     ...    ...    ...  \n",
       "501     21.0  391.99   9.67   22.4  \n",
       "502     21.0  396.90   9.08   20.6  \n",
       "503     21.0  396.90   5.64   23.9  \n",
       "504     21.0  393.45   6.48   22.0  \n",
       "505     21.0  396.90   7.88   11.9  \n",
       "\n",
       "[506 rows x 14 columns]"
      ]
     },
     "execution_count": 50,
     "metadata": {},
     "output_type": "execute_result"
    }
   ],
   "source": [
    "# import data\n",
    "boston =pd.read_csv(\"Boston.csv\",index_col=0)\n",
    "\n",
    "boston"
   ]
  },
  {
   "cell_type": "code",
   "execution_count": 52,
   "id": "a1df0b82",
   "metadata": {},
   "outputs": [],
   "source": [
    "#divide 2 subsets: one for price and other one with the remaining variables\n",
    "y = boston.iloc[:,[13]]\n",
    "X = boston.iloc[:,:-1]"
   ]
  },
  {
   "cell_type": "code",
   "execution_count": 54,
   "id": "09fe6670",
   "metadata": {},
   "outputs": [
    {
     "data": {
      "image/png": "[encoded data removed]",
      "text/plain": [
       "<Figure size 432x288 with 1 Axes>"
      ]
     },
     "metadata": {
      "needs_background": "light"
     },
     "output_type": "display_data"
    }
   ],
   "source": [
    "#graph a boxplot\n",
    "boston.boxplot() #usamos boxplot para que realice el gráfico a partir de las columnas con nombre\n",
    "plt.show()"
   ]
  },
  {
   "cell_type": "code",
   "execution_count": 55,
   "id": "5902145a",
   "metadata": {},
   "outputs": [
    {
     "data": {
      "image/png": "[encoded data removed]",
      "text/plain": [
       "<Figure size 432x288 with 1 Axes>"
      ]
     },
     "metadata": {
      "needs_background": "light"
     },
     "output_type": "display_data"
    },
    {
     "data": {
      "image/png": "[encoded data removed]",
      "text/plain": [
       "<Figure size 432x288 with 1 Axes>"
      ]
     },
     "metadata": {
      "needs_background": "light"
     },
     "output_type": "display_data"
    },
    {
     "data": {
      "image/png": "[encoded data removed]",
      "text/plain": [
       "<Figure size 432x288 with 1 Axes>"
      ]
     },
     "metadata": {
      "needs_background": "light"
     },
     "output_type": "display_data"
    },
    {
     "data": {
      "image/png": "[encoded data removed]",
      "text/plain": [
       "<Figure size 432x288 with 1 Axes>"
      ]
     },
     "metadata": {
      "needs_background": "light"
     },
     "output_type": "display_data"
    },
    {
     "data": {
      "image/png": "[encoded data removed]",
      "text/plain": [
       "<Figure size 432x288 with 1 Axes>"
      ]
     },
     "metadata": {
      "needs_background": "light"
     },
     "output_type": "display_data"
    },
    {
     "data": {
      "image/png": "[encoded data removed]",
      "text/plain": [
       "<Figure size 432x288 with 1 Axes>"
      ]
     },
     "metadata": {
      "needs_background": "light"
     },
     "output_type": "display_data"
    },
    {
     "data": {
      "image/png": "[encoded data removed]",
      "text/plain": [
       "<Figure size 432x288 with 1 Axes>"
      ]
     },
     "metadata": {
      "needs_background": "light"
     },
     "output_type": "display_data"
    },
    {
     "data": {
      "image/png": "[encoded data removed]",
      "text/plain": [
       "<Figure size 432x288 with 1 Axes>"
      ]
     },
     "metadata": {
      "needs_background": "light"
     },
     "output_type": "display_data"
    },
    {
     "data": {
      "image/png": "[encoded data removed]",
      "text/plain": [
       "<Figure size 432x288 with 1 Axes>"
      ]
     },
     "metadata": {
      "needs_background": "light"
     },
     "output_type": "display_data"
    },
    {
     "data": {
      "image/png": "[encoded data removed]",
      "text/plain": [
       "<Figure size 432x288 with 1 Axes>"
      ]
     },
     "metadata": {
      "needs_background": "light"
     },
     "output_type": "display_data"
    },
    {
     "data": {
      "image/png": "[encoded data removed]",
      "text/plain": [
       "<Figure size 432x288 with 1 Axes>"
      ]
     },
     "metadata": {
      "needs_background": "light"
     },
     "output_type": "display_data"
    },
    {
     "data": {
      "image/png": "[encoded data removed]",
      "text/plain": [
       "<Figure size 432x288 with 1 Axes>"
      ]
     },
     "metadata": {
      "needs_background": "light"
     },
     "output_type": "display_data"
    },
    {
     "data": {
      "image/png": "[encoded data removed]",
      "text/plain": [
       "<Figure size 432x288 with 1 Axes>"
      ]
     },
     "metadata": {
      "needs_background": "light"
     },
     "output_type": "display_data"
    },
    {
     "data": {
      "image/png": "[encoded data removed]",
      "text/plain": [
       "<Figure size 432x288 with 1 Axes>"
      ]
     },
     "metadata": {
      "needs_background": "light"
     },
     "output_type": "display_data"
    }
   ],
   "source": [
    "#individual boxplots\n",
    "for i in boston.columns:        #usamos un loop para cada columna y textear su media y dsv std.\n",
    "    boston.boxplot(column=i)\n",
    "    plt.text(1.5,2, 'La media es ' +str(round(boston[i].mean() ,2)) + ' y la desv. estandar es ' +str(round(boston[i].std() ,2)) )    #TEXTO EN UN PUNTO DEL GRÁFICO\n",
    "    plt.show()"
   ]
  },
  {
   "cell_type": "code",
   "execution_count": 56,
   "id": "b7b2e79b",
   "metadata": {},
   "outputs": [
    {
     "name": "stdout",
     "output_type": "stream",
     "text": [
      "             CRIM        ZN     INDUS      CHAS       NOX        RM       AGE  \\\n",
      "CRIM     1.000000 -0.200469  0.406583 -0.055892  0.420972 -0.219247  0.352734   \n",
      "ZN      -0.200469  1.000000 -0.533828 -0.042697 -0.516604  0.311991 -0.569537   \n",
      "INDUS    0.406583 -0.533828  1.000000  0.062938  0.763651 -0.391676  0.644779   \n",
      "CHAS    -0.055892 -0.042697  0.062938  1.000000  0.091203  0.091251  0.086518   \n",
      "NOX      0.420972 -0.516604  0.763651  0.091203  1.000000 -0.302188  0.731470   \n",
      "RM      -0.219247  0.311991 -0.391676  0.091251 -0.302188  1.000000 -0.240265   \n",
      "AGE      0.352734 -0.569537  0.644779  0.086518  0.731470 -0.240265  1.000000   \n",
      "DIS     -0.379670  0.664408 -0.708027 -0.099176 -0.769230  0.205246 -0.747881   \n",
      "RAD      0.625505 -0.311948  0.595129 -0.007368  0.611441 -0.209847  0.456022   \n",
      "TAX      0.582764 -0.314563  0.720760 -0.035587  0.668023 -0.292048  0.506456   \n",
      "PTRATIO  0.289946 -0.391679  0.383248 -0.121515  0.188933 -0.355501  0.261515   \n",
      "B       -0.385064  0.175520 -0.356977  0.048788 -0.380051  0.128069 -0.273534   \n",
      "LSTAT    0.455621 -0.412995  0.603800 -0.053929  0.590879 -0.613808  0.602339   \n",
      "PRICE   -0.388305  0.360445 -0.483725  0.175260 -0.427321  0.695360 -0.376955   \n",
      "\n",
      "              DIS       RAD       TAX   PTRATIO         B     LSTAT     PRICE  \n",
      "CRIM    -0.379670  0.625505  0.582764  0.289946 -0.385064  0.455621 -0.388305  \n",
      "ZN       0.664408 -0.311948 -0.314563 -0.391679  0.175520 -0.412995  0.360445  \n",
      "INDUS   -0.708027  0.595129  0.720760  0.383248 -0.356977  0.603800 -0.483725  \n",
      "CHAS    -0.099176 -0.007368 -0.035587 -0.121515  0.048788 -0.053929  0.175260  \n",
      "NOX     -0.769230  0.611441  0.668023  0.188933 -0.380051  0.590879 -0.427321  \n",
      "RM       0.205246 -0.209847 -0.292048 -0.355501  0.128069 -0.613808  0.695360  \n",
      "AGE     -0.747881  0.456022  0.506456  0.261515 -0.273534  0.602339 -0.376955  \n",
      "DIS      1.000000 -0.494588 -0.534432 -0.232471  0.291512 -0.496996  0.249929  \n",
      "RAD     -0.494588  1.000000  0.910228  0.464741 -0.444413  0.488676 -0.381626  \n",
      "TAX     -0.534432  0.910228  1.000000  0.460853 -0.441808  0.543993 -0.468536  \n",
      "PTRATIO -0.232471  0.464741  0.460853  1.000000 -0.177383  0.374044 -0.507787  \n",
      "B        0.291512 -0.444413 -0.441808 -0.177383  1.000000 -0.366087  0.333461  \n",
      "LSTAT   -0.496996  0.488676  0.543993  0.374044 -0.366087  1.000000 -0.737663  \n",
      "PRICE    0.249929 -0.381626 -0.468536 -0.507787  0.333461 -0.737663  1.000000  \n"
     ]
    }
   ],
   "source": [
    "#matrix of correlations\n",
    "cor_mat = boston.corr()     #matriz de correlación\n",
    "print(cor_mat)  "
   ]
  },
  {
   "cell_type": "code",
   "execution_count": 57,
   "id": "ee2cc7bc",
   "metadata": {},
   "outputs": [
    {
     "data": {
      "image/png": "[encoded data removed]",
      "text/plain": [
       "<Figure size 432x288 with 2 Axes>"
      ]
     },
     "metadata": {
      "needs_background": "light"
     },
     "output_type": "display_data"
    }
   ],
   "source": [
    "#graph a heat map\n",
    "plt.imshow( cor_mat , interpolation = 'nearest',cmap=\"Oranges\")     #hacemos el mapa de calor\n",
    "plt.title('Heat map')\n",
    "plt.colorbar()      #añadimos la leyenda de calor\n",
    "plt.show()\n"
   ]
  },
  {
   "cell_type": "code",
   "execution_count": 58,
   "id": "7d322263",
   "metadata": {},
   "outputs": [
    {
     "data": {
      "image/png": "[encoded data removed]",
      "text/plain": [
       "<Figure size 432x288 with 4 Axes>"
      ]
     },
     "metadata": {
      "needs_background": "light"
     },
     "output_type": "display_data"
    }
   ],
   "source": [
    "#graph scatter plots \n",
    "plt.subplot(3,2,1)    \n",
    "plt.scatter(boston['INDUS'],boston['CHAS'],marker=\"o\", color=\"Red\")  \n",
    "plt.scatter(boston['INDUS'],boston['PRICE'],marker=\".\",color=\"Pink\")  \n",
    "\n",
    "plt.title('Indus vs chas')\n",
    "\n",
    "plt.subplot(3,2,2)    \n",
    "plt.scatter(boston['INDUS'],boston['NOX'],marker=\"*\",color=\"Green\")\n",
    "plt.scatter(boston['INDUS'],boston['PRICE'],marker=\".\",color=\"Pink\")\n",
    "plt.title('Indus vs nox')\n",
    "\n",
    "plt.subplot(3,2,5)    \n",
    "plt.scatter(boston['INDUS'],boston['DIS'],marker=\".\",color=\"Grey\")\n",
    "plt.scatter(boston['INDUS'],boston['PRICE'],marker=\".\",color=\"Pink\")\n",
    "plt.title('Indus vs dis')\n",
    "    \n",
    "plt.subplot(3,2,6)    \n",
    "plt.scatter(boston['INDUS'],boston['TAX'],marker=\"*\",color=\"Blue\")\n",
    "plt.scatter(boston['INDUS'],boston['PRICE'],marker=\".\",color=\"Pink\")\n",
    "plt.title('Indus vs tax')\n",
    "\n",
    "plt.show()"
   ]
  }
 ],
 "metadata": {
  "kernelspec": {
   "display_name": "Python 3 (ipykernel)",
   "language": "python",
   "name": "python3"
  },
  "language_info": {
   "codemirror_mode": {
    "name": "ipython",
    "version": 3
   },
   "file_extension": ".py",
   "mimetype": "text/x-python",
   "name": "python",
   "nbconvert_exporter": "python",
   "pygments_lexer": "ipython3",
   "version": "3.9.7"
  }
 },
 "nbformat": 4,
 "nbformat_minor": 5
}
