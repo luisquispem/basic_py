{
 "cells": [
  {
   "cell_type": "markdown",
   "id": "d230b3b6",
   "metadata": {},
   "source": [
    "## Test 1"
   ]
  },
  {
   "cell_type": "code",
   "execution_count": 1,
   "id": "a6f3d2fb",
   "metadata": {},
   "outputs": [],
   "source": [
    "# import relevant pkgs\n",
    "import numpy as np"
   ]
  },
  {
   "cell_type": "markdown",
   "id": "5416ad05",
   "metadata": {},
   "source": [
    "### 1. Print how many possible results outcome from each football date (3 potential results from 5 matches)"
   ]
  },
  {
   "cell_type": "code",
   "execution_count": 5,
   "id": "186e3423",
   "metadata": {},
   "outputs": [],
   "source": [
    "partidos=5                              #5 matches\n",
    "resultados=3                            #3 possible outcomes\n",
    "probablidades=resultados**partidos     #calc possibilities\n"
   ]
  },
  {
   "cell_type": "code",
   "execution_count": 6,
   "id": "16e4db7a",
   "metadata": {},
   "outputs": [
    {
     "name": "stdout",
     "output_type": "stream",
     "text": [
      "En la jornada 15 hay 243 probablilidades\n"
     ]
    }
   ],
   "source": [
    "print('En la jornada 15 hay '+ str(probablidades) + ' probablilidades')"
   ]
  },
  {
   "cell_type": "markdown",
   "id": "46aab4c1",
   "metadata": {},
   "source": [
    "### 2. Print how many possible results outcome from 4 accumulative dates"
   ]
  },
  {
   "cell_type": "code",
   "execution_count": 7,
   "id": "9c983ecc",
   "metadata": {},
   "outputs": [
    {
     "name": "stdout",
     "output_type": "stream",
     "text": [
      "en la jornada 15 hay 243 probablidades.\n",
      "en la jornada 16 hay 59049 probablidades acumulando las anteriores.\n",
      "en la jornada 17 hay 14348907 probablidades acumulando las anteriores.\n",
      "en la jornada 18 hay 3486784401 probablidades acumulando las anteriores.\n"
     ]
    }
   ],
   "source": [
    "partidos=5              #5 matches per date\n",
    "resultados=3            #3 possible outcomes\n",
    "jornadas=[1, 2, 3, 4]   #index each date\n",
    "\n",
    "for i in jornadas:      #haremos un loop para imprimir el número de jornada y la cantidad de resultados probables a partir de su índice.\n",
    "    if i>1:             #ponemos condición para que a partir de la jornada 16 imprima que es acumulada.\n",
    "        print('en la jornada ' + str(14+i) + ' hay ' + str(resultados**(partidos*i))+ ' probablidades acumulando las anteriores.')\n",
    "    else:\n",
    "        print('en la jornada ' + str(14+i) + ' hay ' + str(resultados**(partidos*i))+ ' probablidades.')\n"
   ]
  },
  {
   "cell_type": "markdown",
   "id": "baef256f",
   "metadata": {},
   "source": [
    "### 3. Code a program that prints the first 100th prime numbers"
   ]
  },
  {
   "cell_type": "code",
   "execution_count": 8,
   "id": "5142faee",
   "metadata": {},
   "outputs": [
    {
     "name": "stdout",
     "output_type": "stream",
     "text": [
      "2\n",
      "3\n",
      "5\n",
      "7\n",
      "11\n",
      "13\n",
      "17\n",
      "19\n",
      "23\n",
      "29\n",
      "31\n",
      "37\n",
      "41\n",
      "43\n",
      "47\n",
      "53\n",
      "59\n",
      "61\n",
      "67\n",
      "71\n",
      "73\n",
      "79\n",
      "83\n",
      "89\n",
      "97\n",
      "101\n",
      "103\n",
      "107\n",
      "109\n",
      "113\n",
      "127\n",
      "131\n",
      "137\n",
      "139\n",
      "149\n",
      "151\n",
      "157\n",
      "163\n",
      "167\n",
      "173\n",
      "179\n",
      "181\n",
      "191\n",
      "193\n",
      "197\n",
      "199\n",
      "211\n",
      "223\n",
      "227\n",
      "229\n",
      "233\n",
      "239\n",
      "241\n",
      "251\n",
      "257\n",
      "263\n",
      "269\n",
      "271\n",
      "277\n",
      "281\n",
      "283\n",
      "293\n",
      "307\n",
      "311\n",
      "313\n",
      "317\n",
      "331\n",
      "337\n",
      "347\n",
      "349\n",
      "353\n",
      "359\n",
      "367\n",
      "373\n",
      "379\n",
      "383\n",
      "389\n",
      "397\n",
      "401\n",
      "409\n",
      "419\n",
      "421\n",
      "431\n",
      "433\n",
      "439\n",
      "443\n",
      "449\n",
      "457\n",
      "461\n",
      "463\n",
      "467\n",
      "479\n",
      "487\n",
      "491\n",
      "499\n",
      "503\n",
      "509\n",
      "521\n",
      "523\n",
      "541\n"
     ]
    }
   ],
   "source": [
    "N= 100                    #quantity of numbers\n",
    "c=2                         #first prime is number 2\n",
    "while N >0:               # the loop will be executed while N is greater than 0.\n",
    "    for i in range(2,c):    #the interval of possible divisors for each number in question\n",
    "        if c%i==0:          #Search if it has divisor in its range from (2 , the number), that means it is not a prime number. \n",
    "            break           #if it is not a prime, it will stop the print \n",
    "    else:\n",
    "        print(c)            #if it is prime, it wil be printed\n",
    "        N-=1              #reduce the N-quantity of prime numbers searched\n",
    "    c+=1                    #mientras el N no sea 0, aumentaremos una unidad a nuestro \"c\" para probar si es primo"
   ]
  }
 ],
 "metadata": {
  "kernelspec": {
   "display_name": "Python 3 (ipykernel)",
   "language": "python",
   "name": "python3"
  },
  "language_info": {
   "codemirror_mode": {
    "name": "ipython",
    "version": 3
   },
   "file_extension": ".py",
   "mimetype": "text/x-python",
   "name": "python",
   "nbconvert_exporter": "python",
   "pygments_lexer": "ipython3",
   "version": "3.9.7"
  }
 },
 "nbformat": 4,
 "nbformat_minor": 5
}
